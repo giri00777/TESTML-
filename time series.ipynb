{
 "cells": [
  {
   "cell_type": "code",
   "execution_count": 1,
   "id": "b6c206da",
   "metadata": {},
   "outputs": [],
   "source": [
    "import pandas as pd\n",
    "import matplotlib.pyplot as plt\n",
    "import numpy as np\n",
    "import statsmodels.api as sm\n",
    "import statsmodels.formula.api as smf\n",
    "from statsmodels.tsa.stattools import adfuller\n"
   ]
  },
  {
   "cell_type": "code",
   "execution_count": 12,
   "id": "6d4fe083",
   "metadata": {},
   "outputs": [],
   "source": [
    "df=pd.read_csv(r\"C:\\Users\\kirut\\Downloads\\Paper1\\MonthWiseMarketArrivals_Clean.csv\")\n"
   ]
  },
  {
   "cell_type": "code",
   "execution_count": 13,
   "id": "6ae0ba19",
   "metadata": {},
   "outputs": [
    {
     "data": {
      "text/html": [
       "<div>\n",
       "<style scoped>\n",
       "    .dataframe tbody tr th:only-of-type {\n",
       "        vertical-align: middle;\n",
       "    }\n",
       "\n",
       "    .dataframe tbody tr th {\n",
       "        vertical-align: top;\n",
       "    }\n",
       "\n",
       "    .dataframe thead th {\n",
       "        text-align: right;\n",
       "    }\n",
       "</style>\n",
       "<table border=\"1\" class=\"dataframe\">\n",
       "  <thead>\n",
       "    <tr style=\"text-align: right;\">\n",
       "      <th></th>\n",
       "      <th>market</th>\n",
       "      <th>month</th>\n",
       "      <th>year</th>\n",
       "      <th>quantity</th>\n",
       "      <th>priceMin</th>\n",
       "      <th>priceMax</th>\n",
       "      <th>priceMod</th>\n",
       "      <th>state</th>\n",
       "      <th>city</th>\n",
       "      <th>date</th>\n",
       "    </tr>\n",
       "  </thead>\n",
       "  <tbody>\n",
       "    <tr>\n",
       "      <th>0</th>\n",
       "      <td>ABOHAR(PB)</td>\n",
       "      <td>January</td>\n",
       "      <td>2005</td>\n",
       "      <td>2350</td>\n",
       "      <td>404</td>\n",
       "      <td>493</td>\n",
       "      <td>446</td>\n",
       "      <td>PB</td>\n",
       "      <td>ABOHAR</td>\n",
       "      <td>January-2005</td>\n",
       "    </tr>\n",
       "    <tr>\n",
       "      <th>1</th>\n",
       "      <td>ABOHAR(PB)</td>\n",
       "      <td>January</td>\n",
       "      <td>2006</td>\n",
       "      <td>900</td>\n",
       "      <td>487</td>\n",
       "      <td>638</td>\n",
       "      <td>563</td>\n",
       "      <td>PB</td>\n",
       "      <td>ABOHAR</td>\n",
       "      <td>January-2006</td>\n",
       "    </tr>\n",
       "    <tr>\n",
       "      <th>2</th>\n",
       "      <td>ABOHAR(PB)</td>\n",
       "      <td>January</td>\n",
       "      <td>2010</td>\n",
       "      <td>790</td>\n",
       "      <td>1283</td>\n",
       "      <td>1592</td>\n",
       "      <td>1460</td>\n",
       "      <td>PB</td>\n",
       "      <td>ABOHAR</td>\n",
       "      <td>January-2010</td>\n",
       "    </tr>\n",
       "    <tr>\n",
       "      <th>3</th>\n",
       "      <td>ABOHAR(PB)</td>\n",
       "      <td>January</td>\n",
       "      <td>2011</td>\n",
       "      <td>245</td>\n",
       "      <td>3067</td>\n",
       "      <td>3750</td>\n",
       "      <td>3433</td>\n",
       "      <td>PB</td>\n",
       "      <td>ABOHAR</td>\n",
       "      <td>January-2011</td>\n",
       "    </tr>\n",
       "    <tr>\n",
       "      <th>4</th>\n",
       "      <td>ABOHAR(PB)</td>\n",
       "      <td>January</td>\n",
       "      <td>2012</td>\n",
       "      <td>1035</td>\n",
       "      <td>523</td>\n",
       "      <td>686</td>\n",
       "      <td>605</td>\n",
       "      <td>PB</td>\n",
       "      <td>ABOHAR</td>\n",
       "      <td>January-2012</td>\n",
       "    </tr>\n",
       "  </tbody>\n",
       "</table>\n",
       "</div>"
      ],
      "text/plain": [
       "       market    month  year  quantity  priceMin  priceMax  priceMod state  \\\n",
       "0  ABOHAR(PB)  January  2005      2350       404       493       446    PB   \n",
       "1  ABOHAR(PB)  January  2006       900       487       638       563    PB   \n",
       "2  ABOHAR(PB)  January  2010       790      1283      1592      1460    PB   \n",
       "3  ABOHAR(PB)  January  2011       245      3067      3750      3433    PB   \n",
       "4  ABOHAR(PB)  January  2012      1035       523       686       605    PB   \n",
       "\n",
       "     city          date  \n",
       "0  ABOHAR  January-2005  \n",
       "1  ABOHAR  January-2006  \n",
       "2  ABOHAR  January-2010  \n",
       "3  ABOHAR  January-2011  \n",
       "4  ABOHAR  January-2012  "
      ]
     },
     "execution_count": 13,
     "metadata": {},
     "output_type": "execute_result"
    }
   ],
   "source": [
    "df.head()"
   ]
  },
  {
   "cell_type": "code",
   "execution_count": 14,
   "id": "dbda3557",
   "metadata": {},
   "outputs": [],
   "source": [
    "df.date=pd.DatetimeIndex(df.date)\n"
   ]
  },
  {
   "cell_type": "code",
   "execution_count": 15,
   "id": "4ac89b2d",
   "metadata": {},
   "outputs": [
    {
     "data": {
      "text/html": [
       "<div>\n",
       "<style scoped>\n",
       "    .dataframe tbody tr th:only-of-type {\n",
       "        vertical-align: middle;\n",
       "    }\n",
       "\n",
       "    .dataframe tbody tr th {\n",
       "        vertical-align: top;\n",
       "    }\n",
       "\n",
       "    .dataframe thead th {\n",
       "        text-align: right;\n",
       "    }\n",
       "</style>\n",
       "<table border=\"1\" class=\"dataframe\">\n",
       "  <thead>\n",
       "    <tr style=\"text-align: right;\">\n",
       "      <th></th>\n",
       "      <th>market</th>\n",
       "      <th>month</th>\n",
       "      <th>year</th>\n",
       "      <th>quantity</th>\n",
       "      <th>priceMin</th>\n",
       "      <th>priceMax</th>\n",
       "      <th>priceMod</th>\n",
       "      <th>state</th>\n",
       "      <th>city</th>\n",
       "      <th>date</th>\n",
       "    </tr>\n",
       "  </thead>\n",
       "  <tbody>\n",
       "    <tr>\n",
       "      <th>6702</th>\n",
       "      <td>MUMBAI</td>\n",
       "      <td>April</td>\n",
       "      <td>2014</td>\n",
       "      <td>238351</td>\n",
       "      <td>638</td>\n",
       "      <td>1238</td>\n",
       "      <td>939</td>\n",
       "      <td>MS</td>\n",
       "      <td>MUMBAI</td>\n",
       "      <td>2014-04-01</td>\n",
       "    </tr>\n",
       "    <tr>\n",
       "      <th>6703</th>\n",
       "      <td>MUMBAI</td>\n",
       "      <td>April</td>\n",
       "      <td>2015</td>\n",
       "      <td>243100</td>\n",
       "      <td>1209</td>\n",
       "      <td>1445</td>\n",
       "      <td>1327</td>\n",
       "      <td>MS</td>\n",
       "      <td>MUMBAI</td>\n",
       "      <td>2015-04-01</td>\n",
       "    </tr>\n",
       "    <tr>\n",
       "      <th>6692</th>\n",
       "      <td>MUMBAI</td>\n",
       "      <td>April</td>\n",
       "      <td>2004</td>\n",
       "      <td>198200</td>\n",
       "      <td>346</td>\n",
       "      <td>475</td>\n",
       "      <td>397</td>\n",
       "      <td>MS</td>\n",
       "      <td>MUMBAI</td>\n",
       "      <td>2004-04-01</td>\n",
       "    </tr>\n",
       "    <tr>\n",
       "      <th>6693</th>\n",
       "      <td>MUMBAI</td>\n",
       "      <td>April</td>\n",
       "      <td>2005</td>\n",
       "      <td>286150</td>\n",
       "      <td>238</td>\n",
       "      <td>419</td>\n",
       "      <td>328</td>\n",
       "      <td>MS</td>\n",
       "      <td>MUMBAI</td>\n",
       "      <td>2005-04-01</td>\n",
       "    </tr>\n",
       "    <tr>\n",
       "      <th>6694</th>\n",
       "      <td>MUMBAI</td>\n",
       "      <td>April</td>\n",
       "      <td>2006</td>\n",
       "      <td>253765</td>\n",
       "      <td>240</td>\n",
       "      <td>343</td>\n",
       "      <td>290</td>\n",
       "      <td>MS</td>\n",
       "      <td>MUMBAI</td>\n",
       "      <td>2006-04-01</td>\n",
       "    </tr>\n",
       "  </tbody>\n",
       "</table>\n",
       "</div>"
      ],
      "text/plain": [
       "      market  month  year  quantity  priceMin  priceMax  priceMod state  \\\n",
       "6702  MUMBAI  April  2014    238351       638      1238       939    MS   \n",
       "6703  MUMBAI  April  2015    243100      1209      1445      1327    MS   \n",
       "6692  MUMBAI  April  2004    198200       346       475       397    MS   \n",
       "6693  MUMBAI  April  2005    286150       238       419       328    MS   \n",
       "6694  MUMBAI  April  2006    253765       240       343       290    MS   \n",
       "\n",
       "        city       date  \n",
       "6702  MUMBAI 2014-04-01  \n",
       "6703  MUMBAI 2015-04-01  \n",
       "6692  MUMBAI 2004-04-01  \n",
       "6693  MUMBAI 2005-04-01  \n",
       "6694  MUMBAI 2006-04-01  "
      ]
     },
     "execution_count": 15,
     "metadata": {},
     "output_type": "execute_result"
    }
   ],
   "source": [
    "dfMumbai = df[df.city == 'MUMBAI']\n",
    "dfMumbai = dfMumbai.sort_values(by = \"month\")\n",
    "dfMumbai.head()"
   ]
  },
  {
   "cell_type": "code",
   "execution_count": 16,
   "id": "30b17b7e",
   "metadata": {},
   "outputs": [
    {
     "data": {
      "text/plain": [
       "\"pd.set_option('precision', 0)\""
      ]
     },
     "execution_count": 16,
     "metadata": {},
     "output_type": "execute_result"
    }
   ],
   "source": [
    "\"pd.set_option('precision', 0)\""
   ]
  },
  {
   "cell_type": "code",
   "execution_count": 17,
   "id": "d52f4075",
   "metadata": {},
   "outputs": [
    {
     "data": {
      "text/html": [
       "<div>\n",
       "<style scoped>\n",
       "    .dataframe tbody tr th:only-of-type {\n",
       "        vertical-align: middle;\n",
       "    }\n",
       "\n",
       "    .dataframe tbody tr th {\n",
       "        vertical-align: top;\n",
       "    }\n",
       "\n",
       "    .dataframe thead th {\n",
       "        text-align: right;\n",
       "    }\n",
       "</style>\n",
       "<table border=\"1\" class=\"dataframe\">\n",
       "  <thead>\n",
       "    <tr style=\"text-align: right;\">\n",
       "      <th></th>\n",
       "      <th>year</th>\n",
       "      <th>quantity</th>\n",
       "      <th>priceMin</th>\n",
       "      <th>priceMax</th>\n",
       "      <th>priceMod</th>\n",
       "    </tr>\n",
       "  </thead>\n",
       "  <tbody>\n",
       "    <tr>\n",
       "      <th>count</th>\n",
       "      <td>146.000000</td>\n",
       "      <td>146.000000</td>\n",
       "      <td>146.000000</td>\n",
       "      <td>146.000000</td>\n",
       "      <td>146.000000</td>\n",
       "    </tr>\n",
       "    <tr>\n",
       "      <th>mean</th>\n",
       "      <td>2009.589041</td>\n",
       "      <td>221721.308219</td>\n",
       "      <td>900.842466</td>\n",
       "      <td>1316.945205</td>\n",
       "      <td>1114.452055</td>\n",
       "    </tr>\n",
       "    <tr>\n",
       "      <th>std</th>\n",
       "      <td>3.522678</td>\n",
       "      <td>40792.800998</td>\n",
       "      <td>730.909209</td>\n",
       "      <td>1019.072444</td>\n",
       "      <td>883.113380</td>\n",
       "    </tr>\n",
       "    <tr>\n",
       "      <th>min</th>\n",
       "      <td>2004.000000</td>\n",
       "      <td>131590.000000</td>\n",
       "      <td>215.000000</td>\n",
       "      <td>335.000000</td>\n",
       "      <td>287.000000</td>\n",
       "    </tr>\n",
       "    <tr>\n",
       "      <th>25%</th>\n",
       "      <td>2007.000000</td>\n",
       "      <td>195125.000000</td>\n",
       "      <td>434.500000</td>\n",
       "      <td>647.750000</td>\n",
       "      <td>544.500000</td>\n",
       "    </tr>\n",
       "    <tr>\n",
       "      <th>50%</th>\n",
       "      <td>2010.000000</td>\n",
       "      <td>222220.000000</td>\n",
       "      <td>691.500000</td>\n",
       "      <td>982.500000</td>\n",
       "      <td>846.500000</td>\n",
       "    </tr>\n",
       "    <tr>\n",
       "      <th>75%</th>\n",
       "      <td>2013.000000</td>\n",
       "      <td>246050.000000</td>\n",
       "      <td>1098.750000</td>\n",
       "      <td>1623.250000</td>\n",
       "      <td>1391.500000</td>\n",
       "    </tr>\n",
       "    <tr>\n",
       "      <th>max</th>\n",
       "      <td>2016.000000</td>\n",
       "      <td>413681.000000</td>\n",
       "      <td>4005.000000</td>\n",
       "      <td>5517.000000</td>\n",
       "      <td>4714.000000</td>\n",
       "    </tr>\n",
       "  </tbody>\n",
       "</table>\n",
       "</div>"
      ],
      "text/plain": [
       "              year       quantity     priceMin     priceMax     priceMod\n",
       "count   146.000000     146.000000   146.000000   146.000000   146.000000\n",
       "mean   2009.589041  221721.308219   900.842466  1316.945205  1114.452055\n",
       "std       3.522678   40792.800998   730.909209  1019.072444   883.113380\n",
       "min    2004.000000  131590.000000   215.000000   335.000000   287.000000\n",
       "25%    2007.000000  195125.000000   434.500000   647.750000   544.500000\n",
       "50%    2010.000000  222220.000000   691.500000   982.500000   846.500000\n",
       "75%    2013.000000  246050.000000  1098.750000  1623.250000  1391.500000\n",
       "max    2016.000000  413681.000000  4005.000000  5517.000000  4714.000000"
      ]
     },
     "execution_count": 17,
     "metadata": {},
     "output_type": "execute_result"
    }
   ],
   "source": [
    "dfMumbai.describe()\n"
   ]
  },
  {
   "cell_type": "code",
   "execution_count": 18,
   "id": "8e3f847d",
   "metadata": {},
   "outputs": [],
   "source": [
    "dfMumbai.index = pd.PeriodIndex(dfMumbai.month, freq='M')\n"
   ]
  },
  {
   "cell_type": "code",
   "execution_count": 19,
   "id": "3f4f4789",
   "metadata": {},
   "outputs": [
    {
     "data": {
      "text/plain": [
       "<AxesSubplot:xlabel='month'>"
      ]
     },
     "execution_count": 19,
     "metadata": {},
     "output_type": "execute_result"
    },
    {
     "data": {
      "image/png": "[encoded data removed]",
      "text/plain": [
       "<Figure size 432x288 with 1 Axes>"
      ]
     },
     "metadata": {
      "needs_background": "light"
     },
     "output_type": "display_data"
    }
   ],
   "source": [
    "dfMumbai.priceMod.plot()"
   ]
  },
  {
   "cell_type": "code",
   "execution_count": 20,
   "id": "5f50ca36",
   "metadata": {},
   "outputs": [],
   "source": [
    "dfMumbai[\"diff\"]=dfMumbai.priceMax-dfMumbai.priceMin\n",
    "dfMumbai['monthVal'] = pd.DatetimeIndex(dfMumbai['date']).month"
   ]
  },
  {
   "cell_type": "code",
   "execution_count": 21,
   "id": "9da5e487",
   "metadata": {},
   "outputs": [],
   "source": [
    "dfMumbaiPivot = pd.pivot_table(dfMumbai, values = \"diff\", columns = \"year\", index = \"monthVal\")\n"
   ]
  },
  {
   "cell_type": "code",
   "execution_count": 42,
   "id": "6feb59b5",
   "metadata": {},
   "outputs": [
    {
     "data": {
      "text/plain": [
       "<AxesSubplot:ylabel='Frequency'>"
      ]
     },
     "execution_count": 42,
     "metadata": {},
     "output_type": "execute_result"
    },
    {
     "data": {
      "image/png": "[encoded data removed]",
      "text/plain": [
       "<Figure size 432x288 with 1 Axes>"
      ]
     },
     "metadata": {
      "needs_background": "light"
     },
     "output_type": "display_data"
    }
   ],
   "source": [
    "dfMumbai.priceMod.plot(kind = \"hist\", bins = 30)\n"
   ]
  },
  {
   "cell_type": "code",
   "execution_count": 43,
   "id": "50aefa4f",
   "metadata": {},
   "outputs": [
    {
     "data": {
      "text/html": [
       "<div>\n",
       "<style scoped>\n",
       "    .dataframe tbody tr th:only-of-type {\n",
       "        vertical-align: middle;\n",
       "    }\n",
       "\n",
       "    .dataframe tbody tr th {\n",
       "        vertical-align: top;\n",
       "    }\n",
       "\n",
       "    .dataframe thead th {\n",
       "        text-align: right;\n",
       "    }\n",
       "</style>\n",
       "<table border=\"1\" class=\"dataframe\">\n",
       "  <thead>\n",
       "    <tr style=\"text-align: right;\">\n",
       "      <th></th>\n",
       "      <th>market</th>\n",
       "      <th>month</th>\n",
       "      <th>year</th>\n",
       "      <th>quantity</th>\n",
       "      <th>priceMin</th>\n",
       "      <th>priceMax</th>\n",
       "      <th>priceMod</th>\n",
       "      <th>state</th>\n",
       "      <th>city</th>\n",
       "      <th>date</th>\n",
       "      <th>diff</th>\n",
       "      <th>monthVal</th>\n",
       "      <th>priceModLog</th>\n",
       "      <th>priceMean</th>\n",
       "      <th>timeIndex</th>\n",
       "      <th>priceLinear</th>\n",
       "    </tr>\n",
       "    <tr>\n",
       "      <th>month</th>\n",
       "      <th></th>\n",
       "      <th></th>\n",
       "      <th></th>\n",
       "      <th></th>\n",
       "      <th></th>\n",
       "      <th></th>\n",
       "      <th></th>\n",
       "      <th></th>\n",
       "      <th></th>\n",
       "      <th></th>\n",
       "      <th></th>\n",
       "      <th></th>\n",
       "      <th></th>\n",
       "      <th></th>\n",
       "      <th></th>\n",
       "      <th></th>\n",
       "    </tr>\n",
       "  </thead>\n",
       "  <tbody>\n",
       "    <tr>\n",
       "      <th>0001-04</th>\n",
       "      <td>MUMBAI</td>\n",
       "      <td>April</td>\n",
       "      <td>2014</td>\n",
       "      <td>238351</td>\n",
       "      <td>638</td>\n",
       "      <td>1238</td>\n",
       "      <td>939</td>\n",
       "      <td>MS</td>\n",
       "      <td>MUMBAI</td>\n",
       "      <td>2014-04-01</td>\n",
       "      <td>600</td>\n",
       "      <td>4</td>\n",
       "      <td>6.844815</td>\n",
       "      <td>889.100239</td>\n",
       "      <td>123</td>\n",
       "      <td>1511.476807</td>\n",
       "    </tr>\n",
       "    <tr>\n",
       "      <th>0001-04</th>\n",
       "      <td>MUMBAI</td>\n",
       "      <td>April</td>\n",
       "      <td>2015</td>\n",
       "      <td>243100</td>\n",
       "      <td>1209</td>\n",
       "      <td>1445</td>\n",
       "      <td>1327</td>\n",
       "      <td>MS</td>\n",
       "      <td>MUMBAI</td>\n",
       "      <td>2015-04-01</td>\n",
       "      <td>236</td>\n",
       "      <td>4</td>\n",
       "      <td>7.190676</td>\n",
       "      <td>889.100239</td>\n",
       "      <td>135</td>\n",
       "      <td>1714.597018</td>\n",
       "    </tr>\n",
       "    <tr>\n",
       "      <th>0001-04</th>\n",
       "      <td>MUMBAI</td>\n",
       "      <td>April</td>\n",
       "      <td>2004</td>\n",
       "      <td>198200</td>\n",
       "      <td>346</td>\n",
       "      <td>475</td>\n",
       "      <td>397</td>\n",
       "      <td>MS</td>\n",
       "      <td>MUMBAI</td>\n",
       "      <td>2004-04-01</td>\n",
       "      <td>129</td>\n",
       "      <td>4</td>\n",
       "      <td>5.983936</td>\n",
       "      <td>889.100239</td>\n",
       "      <td>3</td>\n",
       "      <td>428.346991</td>\n",
       "    </tr>\n",
       "    <tr>\n",
       "      <th>0001-04</th>\n",
       "      <td>MUMBAI</td>\n",
       "      <td>April</td>\n",
       "      <td>2005</td>\n",
       "      <td>286150</td>\n",
       "      <td>238</td>\n",
       "      <td>419</td>\n",
       "      <td>328</td>\n",
       "      <td>MS</td>\n",
       "      <td>MUMBAI</td>\n",
       "      <td>2005-04-01</td>\n",
       "      <td>181</td>\n",
       "      <td>4</td>\n",
       "      <td>5.793014</td>\n",
       "      <td>889.100239</td>\n",
       "      <td>15</td>\n",
       "      <td>485.910515</td>\n",
       "    </tr>\n",
       "    <tr>\n",
       "      <th>0001-04</th>\n",
       "      <td>MUMBAI</td>\n",
       "      <td>April</td>\n",
       "      <td>2006</td>\n",
       "      <td>253765</td>\n",
       "      <td>240</td>\n",
       "      <td>343</td>\n",
       "      <td>290</td>\n",
       "      <td>MS</td>\n",
       "      <td>MUMBAI</td>\n",
       "      <td>2006-04-01</td>\n",
       "      <td>103</td>\n",
       "      <td>4</td>\n",
       "      <td>5.669881</td>\n",
       "      <td>889.100239</td>\n",
       "      <td>27</td>\n",
       "      <td>551.209728</td>\n",
       "    </tr>\n",
       "  </tbody>\n",
       "</table>\n",
       "</div>"
      ],
      "text/plain": [
       "         market  month  year  quantity  priceMin  priceMax  priceMod state  \\\n",
       "month                                                                        \n",
       "0001-04  MUMBAI  April  2014    238351       638      1238       939    MS   \n",
       "0001-04  MUMBAI  April  2015    243100      1209      1445      1327    MS   \n",
       "0001-04  MUMBAI  April  2004    198200       346       475       397    MS   \n",
       "0001-04  MUMBAI  April  2005    286150       238       419       328    MS   \n",
       "0001-04  MUMBAI  April  2006    253765       240       343       290    MS   \n",
       "\n",
       "           city       date  diff  monthVal  priceModLog   priceMean  \\\n",
       "month                                                                 \n",
       "0001-04  MUMBAI 2014-04-01   600         4     6.844815  889.100239   \n",
       "0001-04  MUMBAI 2015-04-01   236         4     7.190676  889.100239   \n",
       "0001-04  MUMBAI 2004-04-01   129         4     5.983936  889.100239   \n",
       "0001-04  MUMBAI 2005-04-01   181         4     5.793014  889.100239   \n",
       "0001-04  MUMBAI 2006-04-01   103         4     5.669881  889.100239   \n",
       "\n",
       "         timeIndex  priceLinear  \n",
       "month                            \n",
       "0001-04        123  1511.476807  \n",
       "0001-04        135  1714.597018  \n",
       "0001-04          3   428.346991  \n",
       "0001-04         15   485.910515  \n",
       "0001-04         27   551.209728  "
      ]
     },
     "execution_count": 43,
     "metadata": {},
     "output_type": "execute_result"
    }
   ],
   "source": [
    "\n",
    "dfMumbai['priceModLog'] = np.log(dfMumbai.priceMod)\n",
    "dfMumbai.head()"
   ]
  },
  {
   "cell_type": "code",
   "execution_count": 44,
   "id": "f55a33db",
   "metadata": {},
   "outputs": [
    {
     "data": {
      "text/plain": [
       "<AxesSubplot:ylabel='Frequency'>"
      ]
     },
     "execution_count": 44,
     "metadata": {},
     "output_type": "execute_result"
    },
    {
     "data": {
      "image/png": "[encoded data removed]",
      "text/plain": [
       "<Figure size 432x288 with 1 Axes>"
      ]
     },
     "metadata": {
      "needs_background": "light"
     },
     "output_type": "display_data"
    }
   ],
   "source": [
    "dfMumbai.priceModLog.plot(kind = \"hist\", bins = 30)\n"
   ]
  },
  {
   "cell_type": "code",
   "execution_count": 45,
   "id": "50e06358",
   "metadata": {},
   "outputs": [],
   "source": [
    "model_mean_pred = dfMumbai.priceModLog.mean()\n",
    "dfMumbai[\"priceMean\"] = np.exp(model_mean_pred)\n"
   ]
  },
  {
   "cell_type": "code",
   "execution_count": 46,
   "id": "ccf00a82",
   "metadata": {},
   "outputs": [
    {
     "data": {
      "text/plain": [
       "<AxesSubplot:xlabel='date'>"
      ]
     },
     "execution_count": 46,
     "metadata": {},
     "output_type": "execute_result"
    },
    {
     "data": {
      "image/png": "[encoded data removed]",
      "text/plain": [
       "<Figure size 432x288 with 1 Axes>"
      ]
     },
     "metadata": {
      "needs_background": "light"
     },
     "output_type": "display_data"
    }
   ],
   "source": [
    "dfMumbai.plot(kind=\"line\", x=\"date\", y = [\"priceMod\", \"priceMean\"])\n"
   ]
  },
  {
   "cell_type": "code",
   "execution_count": 47,
   "id": "f4ca015d",
   "metadata": {},
   "outputs": [],
   "source": [
    "def RMSE(predicted, actual):\n",
    "    mse = (predicted - actual)**2\n",
    "    rmse = np.sqrt(mse.sum()/mse.count())\n",
    "    return rmse"
   ]
  },
  {
   "cell_type": "code",
   "execution_count": 48,
   "id": "59b8b29f",
   "metadata": {},
   "outputs": [
    {
     "data": {
      "text/plain": [
       "908.4772843986443"
      ]
     },
     "execution_count": 48,
     "metadata": {},
     "output_type": "execute_result"
    }
   ],
   "source": [
    "model_mean_RMSE = RMSE(dfMumbai.priceMean, dfMumbai.priceMod)\n",
    "model_mean_RMSE\n"
   ]
  },
  {
   "cell_type": "code",
   "execution_count": 49,
   "id": "8e69ca7f",
   "metadata": {},
   "outputs": [
    {
     "data": {
      "text/html": [
       "<div>\n",
       "<style scoped>\n",
       "    .dataframe tbody tr th:only-of-type {\n",
       "        vertical-align: middle;\n",
       "    }\n",
       "\n",
       "    .dataframe tbody tr th {\n",
       "        vertical-align: top;\n",
       "    }\n",
       "\n",
       "    .dataframe thead th {\n",
       "        text-align: right;\n",
       "    }\n",
       "</style>\n",
       "<table border=\"1\" class=\"dataframe\">\n",
       "  <thead>\n",
       "    <tr style=\"text-align: right;\">\n",
       "      <th></th>\n",
       "      <th>Model</th>\n",
       "      <th>Forecast</th>\n",
       "      <th>RMSE</th>\n",
       "    </tr>\n",
       "  </thead>\n",
       "  <tbody>\n",
       "    <tr>\n",
       "      <th>0</th>\n",
       "      <td>Mean</td>\n",
       "      <td>889.100239</td>\n",
       "      <td>908.477284</td>\n",
       "    </tr>\n",
       "  </tbody>\n",
       "</table>\n",
       "</div>"
      ],
      "text/plain": [
       "  Model    Forecast        RMSE\n",
       "0  Mean  889.100239  908.477284"
      ]
     },
     "execution_count": 49,
     "metadata": {},
     "output_type": "execute_result"
    }
   ],
   "source": [
    "dfMumbaiResults = pd.DataFrame(columns = [\"Model\", \"Forecast\", \"RMSE\"])\n",
    "dfMumbaiResults.loc[0,\"Model\"] = \"Mean\"\n",
    "dfMumbaiResults.loc[0,\"Forecast\"] = np.exp(model_mean_pred)\n",
    "dfMumbaiResults.loc[0,\"RMSE\"] = model_mean_RMSE\n",
    "dfMumbaiResults.head()\n"
   ]
  },
  {
   "cell_type": "code",
   "execution_count": 50,
   "id": "1b41bd6d",
   "metadata": {},
   "outputs": [],
   "source": [
    "dfMumbai[\"timeIndex\"] = dfMumbai.date - dfMumbai.date.min()\n",
    "dfMumbai[\"timeIndex\"] =  dfMumbai[\"timeIndex\"]/np.timedelta64(1, 'M')\n",
    "dfMumbai[\"timeIndex\"] = dfMumbai[\"timeIndex\"].round(0).astype(int)"
   ]
  },
  {
   "cell_type": "code",
   "execution_count": 51,
   "id": "d0f1e861",
   "metadata": {},
   "outputs": [],
   "source": [
    "model_linear = smf.ols('priceModLog ~ timeIndex', data = dfMumbai).fit()\n"
   ]
  },
  {
   "cell_type": "code",
   "execution_count": 52,
   "id": "6b4c6c63",
   "metadata": {},
   "outputs": [
    {
     "data": {
      "text/html": [
       "<table class=\"simpletable\">\n",
       "<caption>OLS Regression Results</caption>\n",
       "<tr>\n",
       "  <th>Dep. Variable:</th>       <td>priceModLog</td>   <th>  R-squared:         </th> <td>   0.473</td>\n",
       "</tr>\n",
       "<tr>\n",
       "  <th>Model:</th>                   <td>OLS</td>       <th>  Adj. R-squared:    </th> <td>   0.469</td>\n",
       "</tr>\n",
       "<tr>\n",
       "  <th>Method:</th>             <td>Least Squares</td>  <th>  F-statistic:       </th> <td>   129.3</td>\n",
       "</tr>\n",
       "<tr>\n",
       "  <th>Date:</th>             <td>Tue, 24 May 2022</td> <th>  Prob (F-statistic):</th> <td>8.89e-22</td>\n",
       "</tr>\n",
       "<tr>\n",
       "  <th>Time:</th>                 <td>10:50:55</td>     <th>  Log-Likelihood:    </th> <td> -96.121</td>\n",
       "</tr>\n",
       "<tr>\n",
       "  <th>No. Observations:</th>      <td>   146</td>      <th>  AIC:               </th> <td>   196.2</td>\n",
       "</tr>\n",
       "<tr>\n",
       "  <th>Df Residuals:</th>          <td>   144</td>      <th>  BIC:               </th> <td>   202.2</td>\n",
       "</tr>\n",
       "<tr>\n",
       "  <th>Df Model:</th>              <td>     1</td>      <th>                     </th>     <td> </td>   \n",
       "</tr>\n",
       "<tr>\n",
       "  <th>Covariance Type:</th>      <td>nonrobust</td>    <th>                     </th>     <td> </td>   \n",
       "</tr>\n",
       "</table>\n",
       "<table class=\"simpletable\">\n",
       "<tr>\n",
       "      <td></td>         <th>coef</th>     <th>std err</th>      <th>t</th>      <th>P>|t|</th>  <th>[0.025</th>    <th>0.975]</th>  \n",
       "</tr>\n",
       "<tr>\n",
       "  <th>Intercept</th> <td>    6.0284</td> <td>    0.078</td> <td>   77.785</td> <td> 0.000</td> <td>    5.875</td> <td>    6.182</td>\n",
       "</tr>\n",
       "<tr>\n",
       "  <th>timeIndex</th> <td>    0.0105</td> <td>    0.001</td> <td>   11.370</td> <td> 0.000</td> <td>    0.009</td> <td>    0.012</td>\n",
       "</tr>\n",
       "</table>\n",
       "<table class=\"simpletable\">\n",
       "<tr>\n",
       "  <th>Omnibus:</th>       <td> 7.658</td> <th>  Durbin-Watson:     </th> <td>   1.551</td>\n",
       "</tr>\n",
       "<tr>\n",
       "  <th>Prob(Omnibus):</th> <td> 0.022</td> <th>  Jarque-Bera (JB):  </th> <td>   8.054</td>\n",
       "</tr>\n",
       "<tr>\n",
       "  <th>Skew:</th>          <td> 0.566</td> <th>  Prob(JB):          </th> <td>  0.0178</td>\n",
       "</tr>\n",
       "<tr>\n",
       "  <th>Kurtosis:</th>      <td> 2.791</td> <th>  Cond. No.          </th> <td>    167.</td>\n",
       "</tr>\n",
       "</table><br/><br/>Notes:<br/>[1] Standard Errors assume that the covariance matrix of the errors is correctly specified."
      ],
      "text/plain": [
       "<class 'statsmodels.iolib.summary.Summary'>\n",
       "\"\"\"\n",
       "                            OLS Regression Results                            \n",
       "==============================================================================\n",
       "Dep. Variable:            priceModLog   R-squared:                       0.473\n",
       "Model:                            OLS   Adj. R-squared:                  0.469\n",
       "Method:                 Least Squares   F-statistic:                     129.3\n",
       "Date:                Tue, 24 May 2022   Prob (F-statistic):           8.89e-22\n",
       "Time:                        10:50:55   Log-Likelihood:                -96.121\n",
       "No. Observations:                 146   AIC:                             196.2\n",
       "Df Residuals:                     144   BIC:                             202.2\n",
       "Df Model:                           1                                         \n",
       "Covariance Type:            nonrobust                                         \n",
       "==============================================================================\n",
       "                 coef    std err          t      P>|t|      [0.025      0.975]\n",
       "------------------------------------------------------------------------------\n",
       "Intercept      6.0284      0.078     77.785      0.000       5.875       6.182\n",
       "timeIndex      0.0105      0.001     11.370      0.000       0.009       0.012\n",
       "==============================================================================\n",
       "Omnibus:                        7.658   Durbin-Watson:                   1.551\n",
       "Prob(Omnibus):                  0.022   Jarque-Bera (JB):                8.054\n",
       "Skew:                           0.566   Prob(JB):                       0.0178\n",
       "Kurtosis:                       2.791   Cond. No.                         167.\n",
       "==============================================================================\n",
       "\n",
       "Notes:\n",
       "[1] Standard Errors assume that the covariance matrix of the errors is correctly specified.\n",
       "\"\"\""
      ]
     },
     "execution_count": 52,
     "metadata": {},
     "output_type": "execute_result"
    }
   ],
   "source": [
    "model_linear.summary()\n"
   ]
  },
  {
   "cell_type": "code",
   "execution_count": 53,
   "id": "1d74a736",
   "metadata": {},
   "outputs": [],
   "source": [
    "model_linear_pred = model_linear.predict()\n"
   ]
  },
  {
   "cell_type": "code",
   "execution_count": 54,
   "id": "ace2e2b6",
   "metadata": {},
   "outputs": [
    {
     "data": {
      "text/plain": [
       "array([7.32084247, 7.44693336, 6.05993359, 6.18602448, 6.31211537,\n",
       "       6.43820626, 7.19475158, 6.69038803, 6.81647892, 6.94256981,\n",
       "       7.06866069, 6.56429714, 7.11069099, 6.9846001 , 6.85850921,\n",
       "       6.73241833, 6.60632744, 6.22805478, 6.35414566, 6.10196389,\n",
       "       7.23678188, 7.48896365, 6.48023655, 7.36287277, 7.40490306,\n",
       "       7.53099395, 6.14399418, 7.27881217, 7.15272129, 7.0266304 ,\n",
       "       6.90053951, 6.77444862, 6.64835774, 6.52226685, 6.39617596,\n",
       "       6.27008507, 7.5520091 , 7.29982732, 6.16500933, 6.29110022,\n",
       "       6.41719111, 6.543282  , 6.66937288, 6.79546377, 6.92155466,\n",
       "       7.04764555, 7.17373643, 6.03891844, 7.42591821, 6.02841087,\n",
       "       7.41541064, 7.28931975, 7.16322886, 7.03713797, 6.91104708,\n",
       "       6.7849562 , 7.54150152, 6.53277442, 6.40668353, 6.28059265,\n",
       "       6.15450176, 6.65886531, 6.34363809, 6.46972898, 6.59581987,\n",
       "       6.72191075, 6.84800164, 7.10018342, 7.2262743 , 7.35236519,\n",
       "       7.47845608, 6.2175472 , 6.97409253, 6.09145631, 7.34185762,\n",
       "       7.46794851, 7.21576673, 7.08967584, 6.96358495, 6.83749407,\n",
       "       6.71140318, 6.58531229, 6.4592214 , 6.33313052, 6.20703963,\n",
       "       6.08094874, 7.43642578, 6.04942602, 6.17551691, 6.30160779,\n",
       "       6.42769868, 7.3103349 , 6.67988046, 6.80597134, 6.93206223,\n",
       "       7.05815312, 7.18424401, 6.55378957, 6.19653205, 6.32262294,\n",
       "       6.44871383, 6.57480472, 6.70089561, 6.82698649, 6.95307738,\n",
       "       7.07916827, 7.20525916, 7.33135004, 6.07044117, 7.45744093,\n",
       "       6.76394105, 7.52048637, 7.39439549, 7.2683046 , 7.14221371,\n",
       "       7.01612282, 6.89003194, 6.63785016, 6.51175927, 6.38566839,\n",
       "       6.2595775 , 6.13348661, 6.12297904, 7.38388791, 7.25779703,\n",
       "       7.13170614, 7.00561525, 6.87952436, 6.75343348, 6.62734259,\n",
       "       6.5012517 , 6.37516081, 6.24906992, 7.5099788 , 7.24728945,\n",
       "       6.11247146, 6.23856235, 6.36465324, 6.49074413, 7.12119856,\n",
       "       6.7429259 , 6.86901679, 6.99510768, 7.37338034, 6.61683501,\n",
       "       7.49947123])"
      ]
     },
     "execution_count": 54,
     "metadata": {},
     "output_type": "execute_result"
    }
   ],
   "source": [
    "model_linear_pred\n"
   ]
  },
  {
   "cell_type": "code",
   "execution_count": 55,
   "id": "e6c74803",
   "metadata": {},
   "outputs": [],
   "source": [
    "dfMumbai[\"priceLinear\"] = np.exp(model_linear_pred)\n"
   ]
  },
  {
   "cell_type": "code",
   "execution_count": 56,
   "id": "fa40bddd",
   "metadata": {},
   "outputs": [
    {
     "data": {
      "text/plain": [
       "724.7073314178776"
      ]
     },
     "execution_count": 56,
     "metadata": {},
     "output_type": "execute_result"
    }
   ],
   "source": [
    "model_linear_RMSE = RMSE(dfMumbai.priceLinear, dfMumbai.priceMod)\n",
    "model_linear_RMSE"
   ]
  },
  {
   "cell_type": "code",
   "execution_count": null,
   "id": "af0cff3b",
   "metadata": {},
   "outputs": [],
   "source": []
  },
  {
   "cell_type": "code",
   "execution_count": null,
   "id": "00263d8b",
   "metadata": {},
   "outputs": [],
   "source": []
  },
  {
   "cell_type": "code",
   "execution_count": null,
   "id": "db76bcf2",
   "metadata": {},
   "outputs": [],
   "source": []
  }
 ],
 "metadata": {
  "kernelspec": {
   "display_name": "Python 3 (ipykernel)",
   "language": "python",
   "name": "python3"
  },
  "language_info": {
   "codemirror_mode": {
    "name": "ipython",
    "version": 3
   },
   "file_extension": ".py",
   "mimetype": "text/x-python",
   "name": "python",
   "nbconvert_exporter": "python",
   "pygments_lexer": "ipython3",
   "version": "3.9.7"
  }
 },
 "nbformat": 4,
 "nbformat_minor": 5
}
